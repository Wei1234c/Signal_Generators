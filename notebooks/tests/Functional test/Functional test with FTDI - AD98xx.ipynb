{
 "cells": [
  {
   "cell_type": "markdown",
   "metadata": {},
   "source": [
    "# Functional test with FTDI - AD98xx\n",
    "- https://www.analog.com/media/en/technical-documentation/data-sheets/AD9833.pdf\n",
    "- https://www.analog.com/media/en/technical-documentation/data-sheets/AD9834.pdf\n",
    "- https://www.analog.com/media/en/technical-documentation/data-sheets/AD9850.pdf"
   ]
  },
  {
   "cell_type": "code",
   "execution_count": 1,
   "metadata": {},
   "outputs": [],
   "source": [
    "import os, sys\n",
    "\n",
    "def gen_relative_path(target_path): \n",
    "    \n",
    "    def del_same_parents(target_path, current_path):\n",
    "        if len(target_path) * len(current_path) > 0:\n",
    "            if target_path[0] == current_path[0]:\n",
    "                target_path.pop(0)\n",
    "                current_path.pop(0)\n",
    "                del_same_parents(target_path, current_path)\n",
    "            \n",
    "    current_path = os.getcwd().replace('\\\\', '/').split('/')\n",
    "    target_path = target_path.replace('\\\\', '/').split('/')\n",
    "    del_same_parents(target_path, current_path)\n",
    "    \n",
    "    return ['..'] * len(current_path) + target_path\n",
    "\n",
    "\n",
    "def append_source_relative_path(source_relative_path):\n",
    "    sys.path.append(os.sep.join(source_relative_path))"
   ]
  },
  {
   "cell_type": "code",
   "execution_count": 2,
   "metadata": {},
   "outputs": [],
   "source": [
    "# paths = [' ']\n",
    "# paths = [gen_relative_path(p) for p in paths]\n",
    "# print(paths)"
   ]
  },
  {
   "cell_type": "code",
   "execution_count": 3,
   "metadata": {},
   "outputs": [],
   "source": [
    "paths = [['..', '..', '..', '..', '..', '..', '..', '已完成', 'Bridges', 'bitbucket', 'github', 'codes'], \n",
    "         ['..', '..', '..', '..', '..', '..', 'Utilities', 'bitbucket', 'github', 'codes'],\n",
    "         ['..', '..', '..', 'codes']]\n",
    "\n",
    "for path in paths:\n",
    "    append_source_relative_path(path)"
   ]
  },
  {
   "cell_type": "code",
   "execution_count": 4,
   "metadata": {},
   "outputs": [
    {
     "name": "stdout",
     "output_type": "stream",
     "text": [
      "Populating the interactive namespace from numpy and matplotlib\n"
     ]
    }
   ],
   "source": [
    "%pylab inline\n",
    "\n",
    "from utilities import register\n",
    "from utilities.adapters import peripherals\n",
    "from utilities.shift_register import ShiftRegister\n",
    "from signal_generators.ad98xx.ad9833 import *\n",
    "from signal_generators.ad98xx.ad9834 import *\n",
    "from signal_generators.ad98xx.ad9850 import *"
   ]
  },
  {
   "cell_type": "markdown",
   "metadata": {},
   "source": [
    "## Choose Device"
   ]
  },
  {
   "cell_type": "code",
   "execution_count": 5,
   "metadata": {},
   "outputs": [],
   "source": [
    "cls = AD9833\n",
    "# cls = AD9834\n",
    "# cls = AD9850"
   ]
  },
  {
   "cell_type": "markdown",
   "metadata": {},
   "source": [
    "## Debug mode?"
   ]
  },
  {
   "cell_type": "code",
   "execution_count": 6,
   "metadata": {
    "scrolled": false
   },
   "outputs": [],
   "source": [
    "cls.DEBUG_MODE_SHOW_BUS_DATA = False         # whether to show bus data. \n",
    "cls.DEBUG_MODE_PRINT_REGISTER = False        # whether to print registers. "
   ]
  },
  {
   "cell_type": "markdown",
   "metadata": {},
   "source": [
    "## Generators and Modulators"
   ]
  },
  {
   "cell_type": "code",
   "execution_count": 7,
   "metadata": {},
   "outputs": [],
   "source": [
    "with_hardware_device = True\n",
    "\n",
    "if with_hardware_device:\n",
    "    _clk = peripherals.Pin.get_Ftdi_pin(pin_id = 4)\n",
    "    _data = peripherals.Pin.get_Ftdi_pin(pin_id = 1)\n",
    "    _ss = peripherals.Pin.get_Ftdi_pin(pin_id = 3)\n",
    "#     _ss = peripherals.Pin.get_Ftdi_pin(pin_id = 0)\n",
    "    _reset = peripherals.Pin.get_Ftdi_pin(pin_id = 2)\n",
    "    \n",
    "    lsbfirst = False\n",
    "    \n",
    "    if cls in (AD9850,):\n",
    "        _reset = peripherals.Pin.get_Ftdi_pin(pin_id = 2)\n",
    "        lsbfirst = True\n",
    "        \n",
    "    _spi = ShiftRegister(stb_pin = _ss, clk_pin = _clk, data_pin = _data, lsbfirst = lsbfirst, polarity = 1)\n",
    "else:\n",
    "    _spi = _ss = _reset =  None  # using None for testing without actual hardware device.\n",
    "    \n",
    "bus = peripherals.SPI(_spi, _ss)\n",
    "\n",
    "ad = cls(bus = bus)\n",
    "# ad = AD9850(bus = bus, pin_reset = _reset)  "
   ]
  },
  {
   "cell_type": "code",
   "execution_count": 8,
   "metadata": {
    "scrolled": false
   },
   "outputs": [],
   "source": [
    "ad.init()"
   ]
  },
  {
   "cell_type": "markdown",
   "metadata": {},
   "source": [
    "## Member functions test"
   ]
  },
  {
   "cell_type": "code",
   "execution_count": 9,
   "metadata": {},
   "outputs": [
    {
     "name": "stdout",
     "output_type": "stream",
     "text": [
      "ad.DEBUG_MODE()\n",
      "ad.DEBUG_MODE_PRINT_REGISTER()\n",
      "ad.DEBUG_MODE_SHOW_BUS_DATA()\n",
      "ad.FREQ_MCLK()\n",
      "ad.FREQ_REF()\n",
      "ad.N_OUTPUT_CLOCKS()\n",
      "ad.REGISTERS_COUNT()\n",
      "ad.SHAPES_CONFIG()\n",
      "ad.active_freq_reg_idx()\n",
      "ad.active_phase_reg_idx()\n",
      "ad.apply_signal()\n",
      "ad.close()\n",
      "ad.current_frequency()\n",
      "ad.current_frequency_register()\n",
      "ad.current_phase()\n",
      "ad.current_phase_register()\n",
      "ad.do()\n",
      "ad.do_on_devices()\n",
      "ad.enable()\n",
      "ad.enable_comparator()\n",
      "ad.enable_output()\n",
      "ad.enable_output_channel()\n",
      "ad.enable_pin_control()\n",
      "ad.enabled()\n",
      "ad.freq_resolution()\n",
      "ad.frequency()\n",
      "ad.init()\n",
      "ad.is_virtual_device()\n",
      "ad.load_registers()\n",
      "ad.pause()\n",
      "ad.phase_resolution()\n",
      "ad.pin_control_enabled()\n",
      "ad.print()\n",
      "ad.read_all_registers()\n",
      "ad.registers_values()\n",
      "ad.reset()\n",
      "ad.resume()\n",
      "ad.select_freq_source()\n",
      "ad.select_phase_source()\n",
      "ad.set_frequency()\n",
      "ad.set_phase()\n",
      "ad.shape()\n",
      "ad.start()\n",
      "ad.status()\n",
      "ad.stop()\n",
      "ad.toggle()\n",
      "ad.update()\n",
      "ad.write_all_registers()\n"
     ]
    }
   ],
   "source": [
    "for f in dir(cls):\n",
    "    if not f.startswith('_'):\n",
    "        print('ad.{}()'.format(f))"
   ]
  },
  {
   "cell_type": "code",
   "execution_count": 10,
   "metadata": {},
   "outputs": [],
   "source": [
    "ad.init()"
   ]
  },
  {
   "cell_type": "code",
   "execution_count": 11,
   "metadata": {},
   "outputs": [],
   "source": [
    "ad.set_frequency(1.04e7)"
   ]
  },
  {
   "cell_type": "code",
   "execution_count": 12,
   "metadata": {},
   "outputs": [],
   "source": [
    "ad.set_frequency(440)"
   ]
  },
  {
   "cell_type": "code",
   "execution_count": 13,
   "metadata": {},
   "outputs": [],
   "source": [
    "ad.set_frequency(10.2e6)"
   ]
  },
  {
   "cell_type": "code",
   "execution_count": 14,
   "metadata": {},
   "outputs": [],
   "source": [
    "ad.set_frequency(37.4e6)"
   ]
  },
  {
   "cell_type": "code",
   "execution_count": 15,
   "metadata": {},
   "outputs": [],
   "source": [
    "ad.enable_output(False)"
   ]
  },
  {
   "cell_type": "code",
   "execution_count": 16,
   "metadata": {},
   "outputs": [],
   "source": [
    "ad.reset()"
   ]
  },
  {
   "cell_type": "code",
   "execution_count": 17,
   "metadata": {},
   "outputs": [
    {
     "name": "stdout",
     "output_type": "stream",
     "text": [
      "\n",
      "<< Control >>    :  ('0x2000', '0b10000000000000')\n",
      "[ D15 ]        :  0\n",
      "[ D14 ]        :  0\n",
      "[ B28 ]        :  1\n",
      "[ HLB ]        :  0\n",
      "[ FSELECT ]    :  0\n",
      "[ PSELECT ]    :  0\n",
      "[ PIN_SW ]     :  0\n",
      "[ Reset ]      :  0\n",
      "[ SLEEP1 ]     :  0\n",
      "[ SLEEP12 ]    :  0\n",
      "[ OPBITEN ]    :  0\n",
      "[ SIGN_PIB ]   :  0\n",
      "[ DIV2 ]       :  0\n",
      "[ Reserved_2 ] :  0\n",
      "[ Mode ]       :  0\n",
      "[ Reserved_0 ] :  0\n"
     ]
    },
    {
     "data": {
      "text/plain": [
       "10"
      ]
     },
     "execution_count": 17,
     "metadata": {},
     "output_type": "execute_result"
    }
   ],
   "source": [
    "ad.control_register.print()"
   ]
  },
  {
   "cell_type": "code",
   "execution_count": 18,
   "metadata": {},
   "outputs": [
    {
     "name": "stdout",
     "output_type": "stream",
     "text": [
      "\n",
      "<< Control >>    :  ('0x2000', '0b10000000000000')\n",
      "[ D15 ]        :  0\n",
      "[ D14 ]        :  0\n",
      "[ B28 ]        :  1\n",
      "[ HLB ]        :  0\n",
      "[ FSELECT ]    :  0\n",
      "[ PSELECT ]    :  0\n",
      "[ PIN_SW ]     :  0\n",
      "[ Reset ]      :  0\n",
      "[ SLEEP1 ]     :  0\n",
      "[ SLEEP12 ]    :  0\n",
      "[ OPBITEN ]    :  0\n",
      "[ SIGN_PIB ]   :  0\n",
      "[ DIV2 ]       :  0\n",
      "[ Reserved_2 ] :  0\n",
      "[ Mode ]       :  0\n",
      "[ Reserved_0 ] :  0\n",
      "\n",
      "<< Frequency >> :  ('0x4000', '0b100000000000000')\n",
      "[ Index ]     :  1\n",
      "[ Frequency ] :  0\n",
      "[ Hz ]        :  440.00\n",
      "[ Wave length (m) ]:  6.81346e+05\n",
      "[ Period (s) ]:  2.27273e-03\n",
      "[ MCLK ]      :  75000000\n",
      "\n",
      "<< Phase >> :  ('0xc000', '0b1100000000000000')\n",
      "[ D15 ]   :  1\n",
      "[ D14 ]   :  1\n",
      "[ Index ] :  0\n",
      "[ Phase ] :  0\n",
      "[ Degree ]:  0.00\n",
      "\n",
      "<< Frequency >> :  ('0x8000', '0b1000000000000000')\n",
      "[ Index ]     :  2\n",
      "[ Frequency ] :  0\n",
      "[ Hz ]        :  440.00\n",
      "[ Wave length (m) ]:  6.81346e+05\n",
      "[ Period (s) ]:  2.27273e-03\n",
      "[ MCLK ]      :  75000000\n",
      "\n",
      "<< Phase >> :  ('0xe000', '0b1110000000000000')\n",
      "[ D15 ]   :  1\n",
      "[ D14 ]   :  1\n",
      "[ Index ] :  1\n",
      "[ Phase ] :  0\n",
      "[ Degree ]:  0.00\n"
     ]
    }
   ],
   "source": [
    "ad.print()"
   ]
  },
  {
   "cell_type": "code",
   "execution_count": 19,
   "metadata": {
    "scrolled": false
   },
   "outputs": [
    {
     "name": "stdout",
     "output_type": "stream",
     "text": [
      "\n",
      "<< test >>:  ('0x0', '0b0')\n"
     ]
    }
   ],
   "source": [
    "cr = ad.control_register\n",
    "cr_ds = cr.dumps()\n",
    "cr1 = register.Register('test')\n",
    "cr1.loads(cr_ds)\n",
    "cr1.print();"
   ]
  },
  {
   "cell_type": "code",
   "execution_count": 20,
   "metadata": {},
   "outputs": [],
   "source": [
    "ad.apply_signal()"
   ]
  },
  {
   "cell_type": "code",
   "execution_count": 21,
   "metadata": {},
   "outputs": [],
   "source": [
    "ad.close()"
   ]
  },
  {
   "cell_type": "code",
   "execution_count": 22,
   "metadata": {},
   "outputs": [],
   "source": [
    "ad.start()"
   ]
  },
  {
   "cell_type": "code",
   "execution_count": 23,
   "metadata": {
    "scrolled": false
   },
   "outputs": [],
   "source": [
    "ad.init()"
   ]
  },
  {
   "cell_type": "code",
   "execution_count": 24,
   "metadata": {},
   "outputs": [
    {
     "data": {
      "text/plain": [
       "440"
      ]
     },
     "execution_count": 24,
     "metadata": {},
     "output_type": "execute_result"
    }
   ],
   "source": [
    "ad.current_frequency"
   ]
  },
  {
   "cell_type": "code",
   "execution_count": 25,
   "metadata": {},
   "outputs": [
    {
     "data": {
      "text/plain": [
       "0"
      ]
     },
     "execution_count": 25,
     "metadata": {},
     "output_type": "execute_result"
    }
   ],
   "source": [
    "ad.current_phase"
   ]
  },
  {
   "cell_type": "code",
   "execution_count": 26,
   "metadata": {},
   "outputs": [],
   "source": [
    "ad.enable_output(False)"
   ]
  },
  {
   "cell_type": "code",
   "execution_count": 27,
   "metadata": {},
   "outputs": [],
   "source": [
    "ad.enable_output(True)"
   ]
  },
  {
   "cell_type": "code",
   "execution_count": 28,
   "metadata": {},
   "outputs": [
    {
     "data": {
      "text/plain": [
       "False"
      ]
     },
     "execution_count": 28,
     "metadata": {},
     "output_type": "execute_result"
    }
   ],
   "source": [
    "ad.enable(False)\n",
    "ad.enabled"
   ]
  },
  {
   "cell_type": "code",
   "execution_count": 29,
   "metadata": {},
   "outputs": [],
   "source": [
    "ad._enable_internal_clock(False)"
   ]
  },
  {
   "cell_type": "code",
   "execution_count": 30,
   "metadata": {},
   "outputs": [],
   "source": [
    "ad._enable_internal_clock(True)"
   ]
  },
  {
   "cell_type": "code",
   "execution_count": 31,
   "metadata": {},
   "outputs": [
    {
     "data": {
      "text/plain": [
       "True"
      ]
     },
     "execution_count": 31,
     "metadata": {},
     "output_type": "execute_result"
    }
   ],
   "source": [
    "ad.enable(True)\n",
    "ad.enabled"
   ]
  },
  {
   "cell_type": "code",
   "execution_count": 32,
   "metadata": {},
   "outputs": [],
   "source": [
    "ad.start()"
   ]
  },
  {
   "cell_type": "code",
   "execution_count": 33,
   "metadata": {},
   "outputs": [
    {
     "data": {
      "text/plain": [
       "0.27939677238464355"
      ]
     },
     "execution_count": 33,
     "metadata": {},
     "output_type": "execute_result"
    }
   ],
   "source": [
    "ad.freq_resolution"
   ]
  },
  {
   "cell_type": "code",
   "execution_count": 34,
   "metadata": {},
   "outputs": [
    {
     "data": {
      "text/plain": [
       "440"
      ]
     },
     "execution_count": 34,
     "metadata": {},
     "output_type": "execute_result"
    }
   ],
   "source": [
    "ad.frequency"
   ]
  },
  {
   "cell_type": "code",
   "execution_count": 35,
   "metadata": {},
   "outputs": [],
   "source": [
    "ad.pause()"
   ]
  },
  {
   "cell_type": "code",
   "execution_count": 36,
   "metadata": {},
   "outputs": [],
   "source": [
    "ad.resume()"
   ]
  },
  {
   "cell_type": "code",
   "execution_count": 37,
   "metadata": {},
   "outputs": [],
   "source": [
    "ad.enable(False)"
   ]
  },
  {
   "cell_type": "code",
   "execution_count": 38,
   "metadata": {},
   "outputs": [],
   "source": [
    "ad.enable(True)"
   ]
  },
  {
   "cell_type": "code",
   "execution_count": 39,
   "metadata": {},
   "outputs": [],
   "source": [
    "ad.start()"
   ]
  },
  {
   "cell_type": "code",
   "execution_count": 40,
   "metadata": {},
   "outputs": [],
   "source": [
    "ad.shape = 'square'"
   ]
  },
  {
   "cell_type": "code",
   "execution_count": 41,
   "metadata": {},
   "outputs": [
    {
     "data": {
      "text/plain": [
       "'sine'"
      ]
     },
     "execution_count": 41,
     "metadata": {},
     "output_type": "execute_result"
    }
   ],
   "source": [
    "ad.shape = 'sine'\n",
    "ad.shape"
   ]
  },
  {
   "cell_type": "code",
   "execution_count": 42,
   "metadata": {},
   "outputs": [],
   "source": [
    "ad.set_frequency(freq = 440) "
   ]
  },
  {
   "cell_type": "code",
   "execution_count": 43,
   "metadata": {},
   "outputs": [
    {
     "name": "stdout",
     "output_type": "stream",
     "text": [
      "\n",
      "<< Frequency >> :  ('0x4000', '0b100000000000000')\n",
      "[ Index ]     :  1\n",
      "[ Frequency ] :  0\n",
      "[ Hz ]        :  440.00\n",
      "[ Wave length (m) ]:  6.81346e+05\n",
      "[ Period (s) ]:  2.27273e-03\n",
      "[ MCLK ]      :  75000000\n"
     ]
    }
   ],
   "source": [
    "ad.current_frequency_register.print()"
   ]
  },
  {
   "cell_type": "code",
   "execution_count": 44,
   "metadata": {},
   "outputs": [],
   "source": [
    "ad.set_phase(30)"
   ]
  },
  {
   "cell_type": "code",
   "execution_count": 45,
   "metadata": {},
   "outputs": [
    {
     "data": {
      "text/plain": [
       "(45.52734375, 45.5)"
      ]
     },
     "execution_count": 45,
     "metadata": {},
     "output_type": "execute_result"
    }
   ],
   "source": [
    "ad.set_phase(phase = 45.5)\n",
    "\n",
    "ad.current_phase_register.elements['Phase'].value / (POW2_5 if cls == AD9850 else POW2_12) * DEGREES_IN_PI2, ad.current_phase"
   ]
  },
  {
   "cell_type": "code",
   "execution_count": 46,
   "metadata": {},
   "outputs": [],
   "source": [
    "ad.update()"
   ]
  },
  {
   "cell_type": "code",
   "execution_count": 47,
   "metadata": {},
   "outputs": [],
   "source": [
    "ad.reset()"
   ]
  },
  {
   "cell_type": "code",
   "execution_count": 48,
   "metadata": {},
   "outputs": [],
   "source": [
    "ad.start()"
   ]
  },
  {
   "cell_type": "code",
   "execution_count": 49,
   "metadata": {},
   "outputs": [],
   "source": [
    "ad.stop()"
   ]
  },
  {
   "cell_type": "code",
   "execution_count": 50,
   "metadata": {},
   "outputs": [],
   "source": [
    "ad.close()"
   ]
  }
 ],
 "metadata": {
  "kernelspec": {
   "display_name": "Python 3",
   "language": "python",
   "name": "python3"
  },
  "language_info": {
   "codemirror_mode": {
    "name": "ipython",
    "version": 3
   },
   "file_extension": ".py",
   "mimetype": "text/x-python",
   "name": "python",
   "nbconvert_exporter": "python",
   "pygments_lexer": "ipython3",
   "version": "3.8.8"
  }
 },
 "nbformat": 4,
 "nbformat_minor": 2
}
